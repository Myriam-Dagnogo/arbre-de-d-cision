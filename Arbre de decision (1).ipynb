{
 "cells": [
  {
   "cell_type": "code",
   "execution_count": 1,
   "id": "cd691c2e",
   "metadata": {},
   "outputs": [],
   "source": [
    "import numpy as np\n",
    "import matplotlib.pyplot as plt\n",
    "import pandas as pd\n",
    "import seaborn as sns\n",
    "import pickle\n",
    "# Importation de train_text\n",
    "from sklearn.model_selection import train_test_split\n",
    "#import accuracy store\n",
    "from sklearn.metrics import accuracy_score\n",
    "#import confusion_matrix\n",
    "from sklearn.metrics import confusion_matrix\n",
    "#import DecisionTreeClassifier\n",
    "from sklearn.tree import DecisionTreeClassifier\n",
    "\n",
    "from sklearn.preprocessing import StandardScaler\n",
    "\n",
    "from sklearn.metrics import recall_score\n",
    "\n",
    "from sklearn.metrics import precision_score\n",
    "\n"
   ]
  },
  {
   "cell_type": "code",
   "execution_count": 2,
   "id": "56c1cdca",
   "metadata": {},
   "outputs": [],
   "source": [
    "data=pd.read_excel('Coeur.xlsx')"
   ]
  },
  {
   "cell_type": "code",
   "execution_count": 3,
   "id": "9dffb8e4",
   "metadata": {},
   "outputs": [
    {
     "data": {
      "text/html": [
       "<div>\n",
       "<style scoped>\n",
       "    .dataframe tbody tr th:only-of-type {\n",
       "        vertical-align: middle;\n",
       "    }\n",
       "\n",
       "    .dataframe tbody tr th {\n",
       "        vertical-align: top;\n",
       "    }\n",
       "\n",
       "    .dataframe thead th {\n",
       "        text-align: right;\n",
       "    }\n",
       "</style>\n",
       "<table border=\"1\" class=\"dataframe\">\n",
       "  <thead>\n",
       "    <tr style=\"text-align: right;\">\n",
       "      <th></th>\n",
       "      <th>AGE</th>\n",
       "      <th>SEXE</th>\n",
       "      <th>TDT</th>\n",
       "      <th>PAR</th>\n",
       "      <th>CHOLESTEROL</th>\n",
       "      <th>GAJ</th>\n",
       "      <th>ECG</th>\n",
       "      <th>FCMAX</th>\n",
       "      <th>ANGINE</th>\n",
       "      <th>DEPRESSION</th>\n",
       "      <th>PENTE</th>\n",
       "      <th>CŒUR</th>\n",
       "    </tr>\n",
       "  </thead>\n",
       "  <tbody>\n",
       "    <tr>\n",
       "      <th>0</th>\n",
       "      <td>40</td>\n",
       "      <td>homme</td>\n",
       "      <td>AA</td>\n",
       "      <td>140</td>\n",
       "      <td>289</td>\n",
       "      <td>0</td>\n",
       "      <td>Normal</td>\n",
       "      <td>172</td>\n",
       "      <td>Non</td>\n",
       "      <td>0.0</td>\n",
       "      <td>Ascendant</td>\n",
       "      <td>0</td>\n",
       "    </tr>\n",
       "    <tr>\n",
       "      <th>1</th>\n",
       "      <td>49</td>\n",
       "      <td>femme</td>\n",
       "      <td>DNA</td>\n",
       "      <td>160</td>\n",
       "      <td>180</td>\n",
       "      <td>0</td>\n",
       "      <td>Normal</td>\n",
       "      <td>156</td>\n",
       "      <td>Non</td>\n",
       "      <td>1.0</td>\n",
       "      <td>Plat</td>\n",
       "      <td>1</td>\n",
       "    </tr>\n",
       "    <tr>\n",
       "      <th>2</th>\n",
       "      <td>37</td>\n",
       "      <td>homme</td>\n",
       "      <td>AA</td>\n",
       "      <td>130</td>\n",
       "      <td>283</td>\n",
       "      <td>0</td>\n",
       "      <td>ST</td>\n",
       "      <td>98</td>\n",
       "      <td>Non</td>\n",
       "      <td>0.0</td>\n",
       "      <td>Ascendant</td>\n",
       "      <td>0</td>\n",
       "    </tr>\n",
       "    <tr>\n",
       "      <th>3</th>\n",
       "      <td>48</td>\n",
       "      <td>femme</td>\n",
       "      <td>ASY</td>\n",
       "      <td>138</td>\n",
       "      <td>214</td>\n",
       "      <td>0</td>\n",
       "      <td>Normal</td>\n",
       "      <td>108</td>\n",
       "      <td>Oui</td>\n",
       "      <td>1.5</td>\n",
       "      <td>Plat</td>\n",
       "      <td>1</td>\n",
       "    </tr>\n",
       "    <tr>\n",
       "      <th>4</th>\n",
       "      <td>54</td>\n",
       "      <td>homme</td>\n",
       "      <td>DNA</td>\n",
       "      <td>150</td>\n",
       "      <td>195</td>\n",
       "      <td>0</td>\n",
       "      <td>Normal</td>\n",
       "      <td>122</td>\n",
       "      <td>Non</td>\n",
       "      <td>0.0</td>\n",
       "      <td>Ascendant</td>\n",
       "      <td>0</td>\n",
       "    </tr>\n",
       "  </tbody>\n",
       "</table>\n",
       "</div>"
      ],
      "text/plain": [
       "   AGE   SEXE  TDT  PAR  CHOLESTEROL  GAJ     ECG  FCMAX ANGINE  DEPRESSION   \\\n",
       "0   40  homme   AA  140          289    0  Normal    172    Non          0.0   \n",
       "1   49  femme  DNA  160          180    0  Normal    156    Non          1.0   \n",
       "2   37  homme   AA  130          283    0      ST     98    Non          0.0   \n",
       "3   48  femme  ASY  138          214    0  Normal    108    Oui          1.5   \n",
       "4   54  homme  DNA  150          195    0  Normal    122    Non          0.0   \n",
       "\n",
       "       PENTE  CŒUR  \n",
       "0  Ascendant     0  \n",
       "1       Plat     1  \n",
       "2  Ascendant     0  \n",
       "3       Plat     1  \n",
       "4  Ascendant     0  "
      ]
     },
     "execution_count": 3,
     "metadata": {},
     "output_type": "execute_result"
    }
   ],
   "source": [
    "#2. Faites une copie de l’objet “data” dans un nouvel objet appelé “df”.\n",
    "df = data.copy()\n",
    "df.head()"
   ]
  },
  {
   "cell_type": "code",
   "execution_count": 4,
   "id": "742ce519",
   "metadata": {},
   "outputs": [
    {
     "name": "stdout",
     "output_type": "stream",
     "text": [
      "<class 'pandas.core.frame.DataFrame'>\n",
      "RangeIndex: 918 entries, 0 to 917\n",
      "Data columns (total 12 columns):\n",
      " #   Column       Non-Null Count  Dtype  \n",
      "---  ------       --------------  -----  \n",
      " 0   AGE          918 non-null    int64  \n",
      " 1   SEXE         918 non-null    object \n",
      " 2   TDT          918 non-null    object \n",
      " 3   PAR          918 non-null    int64  \n",
      " 4   CHOLESTEROL  918 non-null    int64  \n",
      " 5   GAJ          918 non-null    int64  \n",
      " 6   ECG          918 non-null    object \n",
      " 7   FCMAX        918 non-null    int64  \n",
      " 8   ANGINE       918 non-null    object \n",
      " 9   DEPRESSION   918 non-null    float64\n",
      " 10  PENTE        918 non-null    object \n",
      " 11  CŒUR         918 non-null    int64  \n",
      "dtypes: float64(1), int64(6), object(5)\n",
      "memory usage: 86.2+ KB\n"
     ]
    }
   ],
   "source": [
    "df.info()"
   ]
  },
  {
   "cell_type": "code",
   "execution_count": 5,
   "id": "1f5aa897",
   "metadata": {},
   "outputs": [
    {
     "data": {
      "text/html": [
       "<div>\n",
       "<style scoped>\n",
       "    .dataframe tbody tr th:only-of-type {\n",
       "        vertical-align: middle;\n",
       "    }\n",
       "\n",
       "    .dataframe tbody tr th {\n",
       "        vertical-align: top;\n",
       "    }\n",
       "\n",
       "    .dataframe thead th {\n",
       "        text-align: right;\n",
       "    }\n",
       "</style>\n",
       "<table border=\"1\" class=\"dataframe\">\n",
       "  <thead>\n",
       "    <tr style=\"text-align: right;\">\n",
       "      <th></th>\n",
       "      <th>AGE</th>\n",
       "      <th>PAR</th>\n",
       "      <th>CHOLESTEROL</th>\n",
       "      <th>GAJ</th>\n",
       "      <th>FCMAX</th>\n",
       "      <th>DEPRESSION</th>\n",
       "      <th>CŒUR</th>\n",
       "    </tr>\n",
       "  </thead>\n",
       "  <tbody>\n",
       "    <tr>\n",
       "      <th>count</th>\n",
       "      <td>918.000000</td>\n",
       "      <td>918.000000</td>\n",
       "      <td>918.000000</td>\n",
       "      <td>918.000000</td>\n",
       "      <td>918.000000</td>\n",
       "      <td>918.000000</td>\n",
       "      <td>918.000000</td>\n",
       "    </tr>\n",
       "    <tr>\n",
       "      <th>mean</th>\n",
       "      <td>53.510893</td>\n",
       "      <td>132.396514</td>\n",
       "      <td>198.799564</td>\n",
       "      <td>0.233115</td>\n",
       "      <td>136.809368</td>\n",
       "      <td>0.887364</td>\n",
       "      <td>0.553377</td>\n",
       "    </tr>\n",
       "    <tr>\n",
       "      <th>std</th>\n",
       "      <td>9.432617</td>\n",
       "      <td>18.514154</td>\n",
       "      <td>109.384145</td>\n",
       "      <td>0.423046</td>\n",
       "      <td>25.460334</td>\n",
       "      <td>1.066570</td>\n",
       "      <td>0.497414</td>\n",
       "    </tr>\n",
       "    <tr>\n",
       "      <th>min</th>\n",
       "      <td>28.000000</td>\n",
       "      <td>0.000000</td>\n",
       "      <td>0.000000</td>\n",
       "      <td>0.000000</td>\n",
       "      <td>60.000000</td>\n",
       "      <td>-2.600000</td>\n",
       "      <td>0.000000</td>\n",
       "    </tr>\n",
       "    <tr>\n",
       "      <th>25%</th>\n",
       "      <td>47.000000</td>\n",
       "      <td>120.000000</td>\n",
       "      <td>173.250000</td>\n",
       "      <td>0.000000</td>\n",
       "      <td>120.000000</td>\n",
       "      <td>0.000000</td>\n",
       "      <td>0.000000</td>\n",
       "    </tr>\n",
       "    <tr>\n",
       "      <th>50%</th>\n",
       "      <td>54.000000</td>\n",
       "      <td>130.000000</td>\n",
       "      <td>223.000000</td>\n",
       "      <td>0.000000</td>\n",
       "      <td>138.000000</td>\n",
       "      <td>0.600000</td>\n",
       "      <td>1.000000</td>\n",
       "    </tr>\n",
       "    <tr>\n",
       "      <th>75%</th>\n",
       "      <td>60.000000</td>\n",
       "      <td>140.000000</td>\n",
       "      <td>267.000000</td>\n",
       "      <td>0.000000</td>\n",
       "      <td>156.000000</td>\n",
       "      <td>1.500000</td>\n",
       "      <td>1.000000</td>\n",
       "    </tr>\n",
       "    <tr>\n",
       "      <th>max</th>\n",
       "      <td>77.000000</td>\n",
       "      <td>200.000000</td>\n",
       "      <td>603.000000</td>\n",
       "      <td>1.000000</td>\n",
       "      <td>202.000000</td>\n",
       "      <td>6.200000</td>\n",
       "      <td>1.000000</td>\n",
       "    </tr>\n",
       "  </tbody>\n",
       "</table>\n",
       "</div>"
      ],
      "text/plain": [
       "              AGE         PAR  CHOLESTEROL         GAJ       FCMAX  \\\n",
       "count  918.000000  918.000000   918.000000  918.000000  918.000000   \n",
       "mean    53.510893  132.396514   198.799564    0.233115  136.809368   \n",
       "std      9.432617   18.514154   109.384145    0.423046   25.460334   \n",
       "min     28.000000    0.000000     0.000000    0.000000   60.000000   \n",
       "25%     47.000000  120.000000   173.250000    0.000000  120.000000   \n",
       "50%     54.000000  130.000000   223.000000    0.000000  138.000000   \n",
       "75%     60.000000  140.000000   267.000000    0.000000  156.000000   \n",
       "max     77.000000  200.000000   603.000000    1.000000  202.000000   \n",
       "\n",
       "       DEPRESSION         CŒUR  \n",
       "count   918.000000  918.000000  \n",
       "mean      0.887364    0.553377  \n",
       "std       1.066570    0.497414  \n",
       "min      -2.600000    0.000000  \n",
       "25%       0.000000    0.000000  \n",
       "50%       0.600000    1.000000  \n",
       "75%       1.500000    1.000000  \n",
       "max       6.200000    1.000000  "
      ]
     },
     "execution_count": 5,
     "metadata": {},
     "output_type": "execute_result"
    }
   ],
   "source": [
    "df.describe()"
   ]
  },
  {
   "cell_type": "markdown",
   "id": "5d4670e1",
   "metadata": {},
   "source": [
    "# verifier les doublons"
   ]
  },
  {
   "cell_type": "code",
   "execution_count": 6,
   "id": "2cdfd61b",
   "metadata": {},
   "outputs": [
    {
     "data": {
      "text/plain": [
       "0"
      ]
     },
     "execution_count": 6,
     "metadata": {},
     "output_type": "execute_result"
    }
   ],
   "source": [
    "df.duplicated().sum()"
   ]
  },
  {
   "cell_type": "code",
   "execution_count": 7,
   "id": "01fc35d7",
   "metadata": {},
   "outputs": [],
   "source": [
    "# df.drop_duplicates()   (suppression des doublons)"
   ]
  },
  {
   "cell_type": "markdown",
   "id": "4ad5e15f",
   "metadata": {},
   "source": [
    "# Verification de constantes"
   ]
  },
  {
   "cell_type": "code",
   "execution_count": 8,
   "id": "45dd0c0d",
   "metadata": {},
   "outputs": [
    {
     "name": "stdout",
     "output_type": "stream",
     "text": [
      "True\n"
     ]
    }
   ],
   "source": [
    "import math\n",
    "b = math.nan\n",
    "print(np.isnan(b))\n"
   ]
  },
  {
   "cell_type": "markdown",
   "id": "3e1a7bc8",
   "metadata": {},
   "source": [
    "# Verification de donnée manquantes"
   ]
  },
  {
   "cell_type": "code",
   "execution_count": 9,
   "id": "14dd3f1d",
   "metadata": {},
   "outputs": [
    {
     "data": {
      "text/plain": [
       "AGE            0\n",
       "SEXE           0\n",
       "TDT            0\n",
       "PAR            0\n",
       "CHOLESTEROL    0\n",
       "GAJ            0\n",
       "ECG            0\n",
       "FCMAX          0\n",
       "ANGINE         0\n",
       "DEPRESSION     0\n",
       "PENTE          0\n",
       "CŒUR           0\n",
       "dtype: int64"
      ]
     },
     "execution_count": 9,
     "metadata": {},
     "output_type": "execute_result"
    }
   ],
   "source": [
    "df.isnull().sum()"
   ]
  },
  {
   "cell_type": "markdown",
   "id": "74f72ce9",
   "metadata": {},
   "source": [
    "# Normalisation de toutes les variables quantitatives\n"
   ]
  },
  {
   "cell_type": "code",
   "execution_count": 10,
   "id": "05fb9c0c",
   "metadata": {},
   "outputs": [],
   "source": [
    "#ecart type  \n",
    "# df_quant[col].std()"
   ]
  },
  {
   "cell_type": "code",
   "execution_count": 11,
   "id": "69fd3ebf",
   "metadata": {},
   "outputs": [],
   "source": [
    "for col in df.drop('CŒUR', axis =1).select_dtypes(np.number).columns:\n",
    " df[col] = df[col]/df[col].max()\n"
   ]
  },
  {
   "cell_type": "markdown",
   "id": "a3c9d2f1",
   "metadata": {},
   "source": [
    "# encodage de toutes les variables qualitatives"
   ]
  },
  {
   "cell_type": "code",
   "execution_count": 12,
   "id": "0a57372a",
   "metadata": {
    "scrolled": true
   },
   "outputs": [],
   "source": [
    "def recoder_df(data):\n",
    "    for col in df.select_dtypes('object').columns:\n",
    "        df[col] = df[col].astype('category').cat.codes\n",
    "        return data\n",
    " "
   ]
  },
  {
   "cell_type": "code",
   "execution_count": 18,
   "id": "a03afb00",
   "metadata": {
    "scrolled": true
   },
   "outputs": [
    {
     "data": {
      "text/html": [
       "<div>\n",
       "<style scoped>\n",
       "    .dataframe tbody tr th:only-of-type {\n",
       "        vertical-align: middle;\n",
       "    }\n",
       "\n",
       "    .dataframe tbody tr th {\n",
       "        vertical-align: top;\n",
       "    }\n",
       "\n",
       "    .dataframe thead th {\n",
       "        text-align: right;\n",
       "    }\n",
       "</style>\n",
       "<table border=\"1\" class=\"dataframe\">\n",
       "  <thead>\n",
       "    <tr style=\"text-align: right;\">\n",
       "      <th></th>\n",
       "      <th>AGE</th>\n",
       "      <th>SEXE</th>\n",
       "      <th>TDT</th>\n",
       "      <th>PAR</th>\n",
       "      <th>CHOLESTEROL</th>\n",
       "      <th>GAJ</th>\n",
       "      <th>ECG</th>\n",
       "      <th>FCMAX</th>\n",
       "      <th>ANGINE</th>\n",
       "      <th>DEPRESSION</th>\n",
       "      <th>PENTE</th>\n",
       "      <th>CŒUR</th>\n",
       "    </tr>\n",
       "  </thead>\n",
       "  <tbody>\n",
       "    <tr>\n",
       "      <th>0</th>\n",
       "      <td>0.519481</td>\n",
       "      <td>1</td>\n",
       "      <td>0</td>\n",
       "      <td>0.70</td>\n",
       "      <td>0.479270</td>\n",
       "      <td>0.0</td>\n",
       "      <td>1</td>\n",
       "      <td>0.851485</td>\n",
       "      <td>0</td>\n",
       "      <td>0.000000</td>\n",
       "      <td>0</td>\n",
       "      <td>0</td>\n",
       "    </tr>\n",
       "    <tr>\n",
       "      <th>1</th>\n",
       "      <td>0.636364</td>\n",
       "      <td>0</td>\n",
       "      <td>3</td>\n",
       "      <td>0.80</td>\n",
       "      <td>0.298507</td>\n",
       "      <td>0.0</td>\n",
       "      <td>1</td>\n",
       "      <td>0.772277</td>\n",
       "      <td>0</td>\n",
       "      <td>0.161290</td>\n",
       "      <td>2</td>\n",
       "      <td>1</td>\n",
       "    </tr>\n",
       "    <tr>\n",
       "      <th>2</th>\n",
       "      <td>0.480519</td>\n",
       "      <td>1</td>\n",
       "      <td>0</td>\n",
       "      <td>0.65</td>\n",
       "      <td>0.469320</td>\n",
       "      <td>0.0</td>\n",
       "      <td>2</td>\n",
       "      <td>0.485149</td>\n",
       "      <td>0</td>\n",
       "      <td>0.000000</td>\n",
       "      <td>0</td>\n",
       "      <td>0</td>\n",
       "    </tr>\n",
       "    <tr>\n",
       "      <th>3</th>\n",
       "      <td>0.623377</td>\n",
       "      <td>0</td>\n",
       "      <td>1</td>\n",
       "      <td>0.69</td>\n",
       "      <td>0.354892</td>\n",
       "      <td>0.0</td>\n",
       "      <td>1</td>\n",
       "      <td>0.534653</td>\n",
       "      <td>1</td>\n",
       "      <td>0.241935</td>\n",
       "      <td>2</td>\n",
       "      <td>1</td>\n",
       "    </tr>\n",
       "    <tr>\n",
       "      <th>4</th>\n",
       "      <td>0.701299</td>\n",
       "      <td>1</td>\n",
       "      <td>3</td>\n",
       "      <td>0.75</td>\n",
       "      <td>0.323383</td>\n",
       "      <td>0.0</td>\n",
       "      <td>1</td>\n",
       "      <td>0.603960</td>\n",
       "      <td>0</td>\n",
       "      <td>0.000000</td>\n",
       "      <td>0</td>\n",
       "      <td>0</td>\n",
       "    </tr>\n",
       "    <tr>\n",
       "      <th>...</th>\n",
       "      <td>...</td>\n",
       "      <td>...</td>\n",
       "      <td>...</td>\n",
       "      <td>...</td>\n",
       "      <td>...</td>\n",
       "      <td>...</td>\n",
       "      <td>...</td>\n",
       "      <td>...</td>\n",
       "      <td>...</td>\n",
       "      <td>...</td>\n",
       "      <td>...</td>\n",
       "      <td>...</td>\n",
       "    </tr>\n",
       "    <tr>\n",
       "      <th>913</th>\n",
       "      <td>0.584416</td>\n",
       "      <td>1</td>\n",
       "      <td>2</td>\n",
       "      <td>0.55</td>\n",
       "      <td>0.437811</td>\n",
       "      <td>0.0</td>\n",
       "      <td>1</td>\n",
       "      <td>0.653465</td>\n",
       "      <td>0</td>\n",
       "      <td>0.193548</td>\n",
       "      <td>2</td>\n",
       "      <td>1</td>\n",
       "    </tr>\n",
       "    <tr>\n",
       "      <th>914</th>\n",
       "      <td>0.883117</td>\n",
       "      <td>1</td>\n",
       "      <td>1</td>\n",
       "      <td>0.72</td>\n",
       "      <td>0.320066</td>\n",
       "      <td>1.0</td>\n",
       "      <td>1</td>\n",
       "      <td>0.698020</td>\n",
       "      <td>0</td>\n",
       "      <td>0.548387</td>\n",
       "      <td>2</td>\n",
       "      <td>1</td>\n",
       "    </tr>\n",
       "    <tr>\n",
       "      <th>915</th>\n",
       "      <td>0.740260</td>\n",
       "      <td>1</td>\n",
       "      <td>1</td>\n",
       "      <td>0.65</td>\n",
       "      <td>0.217247</td>\n",
       "      <td>0.0</td>\n",
       "      <td>1</td>\n",
       "      <td>0.569307</td>\n",
       "      <td>1</td>\n",
       "      <td>0.193548</td>\n",
       "      <td>2</td>\n",
       "      <td>1</td>\n",
       "    </tr>\n",
       "    <tr>\n",
       "      <th>916</th>\n",
       "      <td>0.740260</td>\n",
       "      <td>0</td>\n",
       "      <td>0</td>\n",
       "      <td>0.65</td>\n",
       "      <td>0.391376</td>\n",
       "      <td>0.0</td>\n",
       "      <td>0</td>\n",
       "      <td>0.861386</td>\n",
       "      <td>0</td>\n",
       "      <td>0.000000</td>\n",
       "      <td>2</td>\n",
       "      <td>1</td>\n",
       "    </tr>\n",
       "    <tr>\n",
       "      <th>917</th>\n",
       "      <td>0.493506</td>\n",
       "      <td>1</td>\n",
       "      <td>3</td>\n",
       "      <td>0.69</td>\n",
       "      <td>0.290216</td>\n",
       "      <td>0.0</td>\n",
       "      <td>1</td>\n",
       "      <td>0.856436</td>\n",
       "      <td>0</td>\n",
       "      <td>0.000000</td>\n",
       "      <td>0</td>\n",
       "      <td>0</td>\n",
       "    </tr>\n",
       "  </tbody>\n",
       "</table>\n",
       "<p>918 rows × 12 columns</p>\n",
       "</div>"
      ],
      "text/plain": [
       "          AGE  SEXE  TDT   PAR  CHOLESTEROL  GAJ  ECG     FCMAX  ANGINE  \\\n",
       "0    0.519481     1    0  0.70     0.479270  0.0    1  0.851485       0   \n",
       "1    0.636364     0    3  0.80     0.298507  0.0    1  0.772277       0   \n",
       "2    0.480519     1    0  0.65     0.469320  0.0    2  0.485149       0   \n",
       "3    0.623377     0    1  0.69     0.354892  0.0    1  0.534653       1   \n",
       "4    0.701299     1    3  0.75     0.323383  0.0    1  0.603960       0   \n",
       "..        ...   ...  ...   ...          ...  ...  ...       ...     ...   \n",
       "913  0.584416     1    2  0.55     0.437811  0.0    1  0.653465       0   \n",
       "914  0.883117     1    1  0.72     0.320066  1.0    1  0.698020       0   \n",
       "915  0.740260     1    1  0.65     0.217247  0.0    1  0.569307       1   \n",
       "916  0.740260     0    0  0.65     0.391376  0.0    0  0.861386       0   \n",
       "917  0.493506     1    3  0.69     0.290216  0.0    1  0.856436       0   \n",
       "\n",
       "     DEPRESSION   PENTE  CŒUR  \n",
       "0       0.000000      0     0  \n",
       "1       0.161290      2     1  \n",
       "2       0.000000      0     0  \n",
       "3       0.241935      2     1  \n",
       "4       0.000000      0     0  \n",
       "..           ...    ...   ...  \n",
       "913     0.193548      2     1  \n",
       "914     0.548387      2     1  \n",
       "915     0.193548      2     1  \n",
       "916     0.000000      2     1  \n",
       "917     0.000000      0     0  \n",
       "\n",
       "[918 rows x 12 columns]"
      ]
     },
     "execution_count": 18,
     "metadata": {},
     "output_type": "execute_result"
    }
   ],
   "source": [
    "recoder_df(df)"
   ]
  },
  {
   "cell_type": "markdown",
   "id": "6462dfee",
   "metadata": {},
   "source": [
    "# 8-separer la variable cible coeur des autres variables de df"
   ]
  },
  {
   "cell_type": "code",
   "execution_count": 19,
   "id": "755f93ce",
   "metadata": {},
   "outputs": [],
   "source": [
    "x=df.drop(['CŒUR'], axis=1)\n",
    "y=df['CŒUR']"
   ]
  },
  {
   "cell_type": "markdown",
   "id": "09c35dae",
   "metadata": {},
   "source": [
    "### 9. En utilisant la fonction train_test_split du module model_selection du package sklearn, subdiviser vos données X et Y en respectivement X_train, X_test et Y_train, Y_test. X_train et Y_train doivent contenir respectivement 80 % des données de X et Y."
   ]
  },
  {
   "cell_type": "code",
   "execution_count": 20,
   "id": "6040a380",
   "metadata": {},
   "outputs": [],
   "source": [
    "x_train, x_test, y_train, y_test= train_test_split (x,y,test_size =0.2)"
   ]
  },
  {
   "cell_type": "code",
   "execution_count": 21,
   "id": "1adbd8a9",
   "metadata": {},
   "outputs": [
    {
     "name": "stdout",
     "output_type": "stream",
     "text": [
      "train_set (734, 11)\n",
      "test_set (184, 11)\n"
     ]
    }
   ],
   "source": [
    "print('train_set', x_train.shape)\n",
    "print('test_set', x_test.shape)"
   ]
  },
  {
   "cell_type": "markdown",
   "id": "c4870f1c",
   "metadata": {},
   "source": [
    "# 10. En utilisant la classe LogisticRegression du module linear_model du package sklearn, construisez un modèle de régression logistique en utilisant les données X_train et Y_train et la méthode fit de la classe LogisticRegression."
   ]
  },
  {
   "cell_type": "code",
   "execution_count": 22,
   "id": "aa051247",
   "metadata": {},
   "outputs": [
    {
     "data": {
      "text/plain": [
       "DecisionTreeClassifier()"
      ]
     },
     "execution_count": 22,
     "metadata": {},
     "output_type": "execute_result"
    }
   ],
   "source": [
    "DeciTree = DecisionTreeClassifier()\n",
    "DeciTree.fit(x_train, y_train)"
   ]
  },
  {
   "cell_type": "markdown",
   "id": "73256a3f",
   "metadata": {},
   "source": [
    "# 11- Affichage de la probabilité d'appartenance à chacune des classes de la variable coeur\n"
   ]
  },
  {
   "cell_type": "code",
   "execution_count": 23,
   "id": "32f4dd56",
   "metadata": {},
   "outputs": [
    {
     "data": {
      "text/plain": [
       "array([[0., 1.],\n",
       "       [1., 0.],\n",
       "       [1., 0.],\n",
       "       [0., 1.],\n",
       "       [1., 0.]])"
      ]
     },
     "execution_count": 23,
     "metadata": {},
     "output_type": "execute_result"
    }
   ],
   "source": [
    "DeciTree.predict_proba(x_test[:5])"
   ]
  },
  {
   "cell_type": "markdown",
   "id": "8bd6a368",
   "metadata": {},
   "source": [
    "# 12- Prediction de la classe d'appartenance de chaque individu de X_test\n"
   ]
  },
  {
   "cell_type": "code",
   "execution_count": 24,
   "id": "a075f0f3",
   "metadata": {},
   "outputs": [
    {
     "data": {
      "text/plain": [
       "array([1, 0, 0, 1, 0, 1, 0, 0, 1, 1, 1, 0, 1, 0, 0, 1, 0, 1, 0, 0, 1, 1,\n",
       "       0, 0, 1, 1, 1, 1, 0, 0, 1, 0, 1, 1, 1, 1, 0, 1, 1, 0, 0, 1, 0, 1,\n",
       "       0, 1, 1, 0, 1, 1, 0, 0, 0, 1, 0, 1, 0, 0, 0, 1, 1, 1, 1, 0, 0, 0,\n",
       "       0, 1, 0, 1, 1, 1, 1, 1, 1, 0, 1, 1, 1, 0, 1, 1, 0, 1, 1, 0, 0, 1,\n",
       "       1, 1, 1, 0, 1, 1, 1, 1, 1, 0, 0, 0, 1, 0, 0, 1, 0, 1, 0, 0, 1, 0,\n",
       "       1, 1, 1, 0, 1, 1, 1, 1, 1, 0, 0, 0, 0, 0, 0, 1, 1, 0, 1, 1, 1, 1,\n",
       "       0, 0, 0, 0, 0, 0, 0, 1, 1, 1, 0, 0, 1, 0, 1, 0, 0, 1, 0, 0, 0, 0,\n",
       "       0, 1, 1, 1, 1, 1, 1, 0, 1, 1, 1, 1, 0, 1, 0, 1, 1, 0, 0, 0, 1, 0,\n",
       "       1, 1, 1, 0, 0, 1, 1, 0], dtype=int64)"
      ]
     },
     "execution_count": 24,
     "metadata": {},
     "output_type": "execute_result"
    }
   ],
   "source": [
    "y_pred= DeciTree.predict(x_test)\n",
    "y_pred\n"
   ]
  },
  {
   "cell_type": "markdown",
   "id": "6a29e153",
   "metadata": {},
   "source": [
    "#  confusion_matrix"
   ]
  },
  {
   "cell_type": "code",
   "execution_count": 25,
   "id": "440e5748",
   "metadata": {},
   "outputs": [],
   "source": [
    "matrix= confusion_matrix(y_pred, y_test)"
   ]
  },
  {
   "cell_type": "code",
   "execution_count": 26,
   "id": "e98a77c3",
   "metadata": {},
   "outputs": [
    {
     "data": {
      "text/plain": [
       "array([[59, 25],\n",
       "       [27, 73]], dtype=int64)"
      ]
     },
     "execution_count": 26,
     "metadata": {},
     "output_type": "execute_result"
    }
   ],
   "source": [
    "matrix"
   ]
  },
  {
   "cell_type": "markdown",
   "id": "94cb7d22",
   "metadata": {},
   "source": [
    "# accuracy_score"
   ]
  },
  {
   "cell_type": "code",
   "execution_count": 27,
   "id": "9229d8a8",
   "metadata": {},
   "outputs": [
    {
     "data": {
      "text/plain": [
       "0.717391304347826"
      ]
     },
     "execution_count": 27,
     "metadata": {},
     "output_type": "execute_result"
    }
   ],
   "source": [
    "accur= accuracy_score(y_pred, y_test)\n",
    "accur"
   ]
  },
  {
   "cell_type": "markdown",
   "id": "3ca9c1b9",
   "metadata": {},
   "source": [
    "# recall_score"
   ]
  },
  {
   "cell_type": "code",
   "execution_count": 28,
   "id": "7cc2a1ff",
   "metadata": {},
   "outputs": [
    {
     "data": {
      "text/plain": [
       "0.73"
      ]
     },
     "execution_count": 28,
     "metadata": {},
     "output_type": "execute_result"
    }
   ],
   "source": [
    "recall= recall_score(y_pred, y_test)\n",
    "recall"
   ]
  },
  {
   "cell_type": "markdown",
   "id": "25c04242",
   "metadata": {},
   "source": [
    "#  precision_score "
   ]
  },
  {
   "cell_type": "code",
   "execution_count": 29,
   "id": "91d44642",
   "metadata": {},
   "outputs": [
    {
     "data": {
      "text/plain": [
       "0.7448979591836735"
      ]
     },
     "execution_count": 29,
     "metadata": {},
     "output_type": "execute_result"
    }
   ],
   "source": [
    "pre= precision_score(y_pred, y_test)\n",
    "pre"
   ]
  },
  {
   "cell_type": "code",
   "execution_count": 30,
   "id": "fe025ab9",
   "metadata": {},
   "outputs": [
    {
     "data": {
      "text/plain": [
       "DecisionTreeClassifier()"
      ]
     },
     "execution_count": 30,
     "metadata": {},
     "output_type": "execute_result"
    }
   ],
   "source": [
    "# Appliquer la regression logistique sur notre base de donnée\n",
    "DeciTree= DecisionTreeClassifier()\n",
    "DeciTree.fit(x_train , y_train)"
   ]
  },
  {
   "cell_type": "code",
   "execution_count": 31,
   "id": "48f2f991",
   "metadata": {},
   "outputs": [],
   "source": [
    "#Enregistrer le modèle\n",
    "pickle.dump(DeciTree, open('model.pkl','wb'))"
   ]
  },
  {
   "cell_type": "code",
   "execution_count": 64,
   "id": "fd9fcaa9",
   "metadata": {},
   "outputs": [
    {
     "data": {
      "image/png": "[encoded data removed]",
      "text/plain": [
       "<Figure size 1080x576 with 7 Axes>"
      ]
     },
     "metadata": {},
     "output_type": "display_data"
    }
   ],
   "source": [
    "# representation graphique des variables qualitatives\n",
    "\n",
    "qual = ['SEXE', 'TDT', 'GAJ', 'ECG', 'ANGINE', 'PENTE', 'CŒUR'] # la liste des variables qualitatives\n",
    "\n",
    "plt.figure(tight_layout = True, figsize = (15,8))\n",
    "plt.suptitle(\"LES DIAGRAMMES CIRCULAIRE DES VARIABLES QUALITATIVES\")\n",
    "for y,x in enumerate(qual):\n",
    "    eff = df[x].value_counts()\n",
    "    modalite = df[x].unique()\n",
    "    plt.subplot(2,4,y+1)\n",
    "    plt.pie(eff, labels = modalite, autopct = '%1.1f%%')\n",
    "    plt.legend(bbox_to_anchor = (0, 1))\n",
    "    plt.title(f\"{qual[y]}\")\n",
    "plt.show()"
   ]
  },
  {
   "cell_type": "code",
   "execution_count": 65,
   "id": "ee516cc2",
   "metadata": {},
   "outputs": [
    {
     "data": {
      "image/png": "[encoded data removed]",
      "text/plain": [
       "<Figure size 1008x432 with 4 Axes>"
      ]
     },
     "metadata": {
      "needs_background": "light"
     },
     "output_type": "display_data"
    }
   ],
   "source": [
    "quant = ['PAR', 'CHOLESTEROL', 'FCMAX', 'DEPRESSION ']\n",
    "\n",
    "plt.figure(tight_layout = True, figsize = (14, 6))\n",
    "plt.suptitle(\"LES HISTOGRAMMES DES VARIABLES QUANTITATIVES\")\n",
    "for y,x in enumerate(quant):\n",
    "    plt.subplot(2,5,y+1)\n",
    "    plt.hist(df[x])\n",
    "    plt.title(f\"{quant[y]}\")\n",
    "plt.show()"
   ]
  }
 ],
 "metadata": {
  "kernelspec": {
   "display_name": "Python 3",
   "language": "python",
   "name": "python3"
  },
  "language_info": {
   "codemirror_mode": {
    "name": "ipython",
    "version": 3
   },
   "file_extension": ".py",
   "mimetype": "text/x-python",
   "name": "python",
   "nbconvert_exporter": "python",
   "pygments_lexer": "ipython3",
   "version": "3.8.8"
  }
 },
 "nbformat": 4,
 "nbformat_minor": 5
}
